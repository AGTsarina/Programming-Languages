Задачи на линейные конструкции:
https://contest.yandex.ru/contest/51862/standings/

Задачи на циклы/условия
https://contest.yandex.ru/contest/53132/standings

