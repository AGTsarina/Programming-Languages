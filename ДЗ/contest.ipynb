{
 "cells": [
  {
   "cell_type": "markdown",
   "metadata": {},
   "source": [
    "|Раздел|ССылка|\n",
    "|--|----|\n",
    "|Задачи на линейные конструкции:|<https://contest.yandex.ru/contest/51862/standings/>|\n",
    "|Задачи на циклы/условия:|<https://contest.yandex.ru/contest/53132/standings/>|",
    "|Задачи на массивы|https://contest.yandex.ru/contest/54721/standings|"
   ]
  }
 ],
 "metadata": {
  "language_info": {
   "name": "python"
  }
 },
 "nbformat": 4,
 "nbformat_minor": 2
}
